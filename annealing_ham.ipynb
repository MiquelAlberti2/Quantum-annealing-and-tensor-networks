{
 "cells": [
  {
   "cell_type": "code",
   "execution_count": 2,
   "metadata": {},
   "outputs": [],
   "source": [
    "import tests.custom_tests as tests\n",
    "\n",
    "N, values, weights, W_capacity = tests.easy_test()"
   ]
  },
  {
   "cell_type": "code",
   "execution_count": 3,
   "metadata": {},
   "outputs": [
    {
     "name": "stdout",
     "output_type": "stream",
     "text": [
      "({1: -63.986999999999995, 0: -40.618500000000004, 2: -69.6055}, {(0, 1): -3.79, (2, 1): 9.88, (2, 0): 5.065}, -140.631)\n"
     ]
    }
   ],
   "source": [
    "import dimod\n",
    "import dimod.utilities\n",
    "from ncon import ncon\n",
    "\n",
    "\n",
    "# https://docs.ocean.dwavesys.com/en/latest/docs_dimod/reference/generated/dimod.binary.BinaryQuadraticModel.to_ising.html\n",
    "\n",
    "x = [dimod.Binary(i) for i in range(N)]\n",
    "\n",
    "cost = - dimod.quicksum(values[i][j] * x[i] * x[j] for i in range(N) for j in range (i+1)) # values\n",
    "cost -= 0.9603*(W_capacity - dimod.quicksum(weights[i] * x[i] for i in range(N)))\n",
    "cost += 0.0371*(W_capacity - dimod.quicksum(weights[i] * x[i] for i in range(N)))**2\n",
    "\n",
    "model = dimod.BinaryQuadraticModel(cost.linear, cost.quadratic, cost.offset, vartype='BINARY')\n",
    "H = model.to_ising()\n",
    "\n",
    "print(H)"
   ]
  },
  {
   "cell_type": "code",
   "execution_count": 4,
   "metadata": {},
   "outputs": [
    {
     "name": "stdout",
     "output_type": "stream",
     "text": [
      "3\n"
     ]
    }
   ],
   "source": [
    "import numpy as np\n",
    "from DMRG.annealing_ham_to_MPO import from_ham_coeff\n",
    "\n",
    "h_coeffs = [H[0][site] for site in range (N)] # H[0] contains linear interactions\n",
    "\n",
    "J_coeffs = np.zeros((N,N))\n",
    "for term in H[1]: # quadratic interacions\n",
    "    # TODO in formulation i>j, but in MPO i<j (triangular superior, la meitat buida)\n",
    "    J_coeffs[min(term[0], term[1]), max(term[0], term[1])] = H[1][term]\n",
    "\n",
    "offset = H[2]\n",
    "s = 1\n",
    "\n",
    "M = from_ham_coeff(N, J_coeffs, h_coeffs, s)\n",
    "\n",
    "print(len(M))"
   ]
  },
  {
   "cell_type": "code",
   "execution_count": 5,
   "metadata": {},
   "outputs": [
    {
     "name": "stdout",
     "output_type": "stream",
     "text": [
      "[[-163.056    0.       0.     -53.735    0.       0.       0.       0.   ]\n",
      " [   0.       0.       0.       0.     -47.262    0.       0.     101.579]\n",
      " [   0.       0.       0.       0.       0.       0.       0.       0.   ]\n",
      " [   0.       0.       0.       0.       0.       0.       0.       0.   ]\n",
      " [   0.       0.       0.       0.       0.       0.       0.       0.   ]\n",
      " [   0.       0.       0.       0.       0.       0.       0.       0.   ]\n",
      " [ -84.369    0.       0.      45.212    0.       0.       0.       0.   ]\n",
      " [   0.       0.       0.       0.      16.265    0.       0.     185.366]]\n",
      "[-200.4666963   -26.1560435    -1.41635555    0.            0.\n",
      "    0.           63.5667398   186.78235555]\n"
     ]
    },
    {
     "data": {
      "text/plain": [
       "'SURT MALAMENT PERQUE ELS COEFF DE H NO ESTAN ON TOCA'"
      ]
     },
     "execution_count": 5,
     "metadata": {},
     "output_type": "execute_result"
    }
   ],
   "source": [
    "# Check M by doing diagonalization\n",
    "\n",
    "M_copy = M.copy()\n",
    "M_copy[0] = M_copy[0][0, :]\n",
    "M_copy[-1] = M_copy[-1][:, -1]\n",
    "\n",
    "'''for i in range(len(M)):\n",
    "    print(M_copy[i].shape)'''\n",
    "\n",
    "\n",
    "H = ncon(M_copy, [[1, -1, -2], [1, 2, -4, -5], [2,-6,-7]])\n",
    "\n",
    "# indices_con = [[i, i+1, -i*2, -i*2-1] for i in range(1,len(M_copy))]\n",
    "H = H.reshape(8,8)\n",
    "print(H)\n",
    "\n",
    "import scipy.linalg as la\n",
    "\n",
    "D = la.eigvalsh(H)\n",
    "print(D)\n",
    "EnExact = 2 * sum(D[D < 0])\n",
    "EnExact\n",
    "\n",
    "'''SURT MALAMENT PERQUE ELS COEFF DE H NO ESTAN ON TOCA'''"
   ]
  },
  {
   "cell_type": "code",
   "execution_count": 6,
   "metadata": {},
   "outputs": [
    {
     "name": "stdout",
     "output_type": "stream",
     "text": [
      "[-40.618500000000004, -63.986999999999995, -69.6055]\n",
      "[[ 0.    -3.79   5.065]\n",
      " [ 0.     0.     9.88 ]\n",
      " [ 0.     0.     0.   ]]\n",
      "[[-163.056    0.       0.       0.       0.       0.       0.       0.   ]\n",
      " [   0.     -53.735    0.       0.       0.       0.       0.       0.   ]\n",
      " [   0.       0.     -47.262    0.       0.       0.       0.       0.   ]\n",
      " [   0.       0.       0.     101.579    0.       0.       0.       0.   ]\n",
      " [   0.       0.       0.       0.     -84.369    0.       0.       0.   ]\n",
      " [   0.       0.       0.       0.       0.      45.212    0.       0.   ]\n",
      " [   0.       0.       0.       0.       0.       0.      16.265    0.   ]\n",
      " [   0.       0.       0.       0.       0.       0.       0.     185.366]]\n",
      "+ offset: -140.631\n",
      "-303.687\n",
      "-194.36599999999999\n",
      "-187.89300000000003\n",
      "-39.05200000000001\n",
      "-225.0\n",
      "-95.41899999999998\n",
      "-124.366\n",
      "44.735000000000014\n"
     ]
    }
   ],
   "source": [
    "from qibo.hamiltonians.models import multikron\n",
    "\n",
    "Id = np.array([[1,0],[0,1]])\n",
    "Z = np.array([[1,0],[0,-1]])\n",
    "\n",
    "Z_0 = multikron([Z, Id, Id])\n",
    "Z_1 = multikron([Id, Z, Id])\n",
    "Z_2 = multikron([Id, Id, Z])\n",
    "\n",
    "Z_01 = multikron([Z, Z, Id])\n",
    "Z_02 = multikron([Z, Id, Z])\n",
    "Z_12 = multikron([Id, Z, Z])\n",
    "\n",
    "crafted_H = h_coeffs[0]*Z_0 + h_coeffs[1]*Z_1 + h_coeffs[2]*Z_2 + \\\n",
    "            J_coeffs[0,1]*Z_01 + J_coeffs[0,2]*Z_02 + J_coeffs[1,2]*Z_12\n",
    "\n",
    "print(h_coeffs)\n",
    "print(J_coeffs)\n",
    "print(crafted_H)\n",
    "print(f'+ offset: {offset}')\n",
    "\n",
    "for i in range(8):\n",
    "    print(crafted_H[i,i] + offset)\n",
    "\n"
   ]
  },
  {
   "cell_type": "code",
   "execution_count": 22,
   "metadata": {},
   "outputs": [
    {
     "name": "stderr",
     "output_type": "stream",
     "text": [
      "[Qibo 0.2.7|WARNING|2024-05-02 12:22:24]: Calculating the dense form of a symbolic Hamiltonian. This operation is memory inefficient.\n"
     ]
    },
    {
     "name": "stdout",
     "output_type": "stream",
     "text": [
      "[-163.056  -84.369  -53.735  -47.262   16.265   45.212  101.579  185.366]\n"
     ]
    }
   ],
   "source": [
    "from Annealing_ham.QKP_ham import QKP_Hamiltonian\n",
    "\n",
    "qkp_ham = QKP_Hamiltonian(W_capacity, weights, values)\n",
    "\n",
    "print(qkp_ham.H_target.eigenvalues())"
   ]
  },
  {
   "cell_type": "code",
   "execution_count": 8,
   "metadata": {},
   "outputs": [],
   "source": [
    "import numpy as np\n",
    "from numpy import linalg as LA\n",
    "import matplotlib.pyplot as plt\n",
    "\n",
    "from DMRG.module import doDMRG_MPO\n",
    "\n",
    "##### Set bond dimensions and simulation options\n",
    "chi = 32\n",
    "Nsites = N\n",
    "\n",
    "OPTS_numsweeps = 15 # number of DMRG sweeps\n",
    "OPTS_dispon = 2 # level of output display\n",
    "OPTS_updateon = True # level of output display\n",
    "OPTS_maxit = 2 # iterations of Lanczos method\n",
    "OPTS_krydim = 4 # dimension of Krylov subspace\n",
    "\n",
    "#####################################\n",
    "\n",
    "L_dim = M[0].shape[0]\n",
    "R_dim = M[-1].shape[2]\n",
    "\n",
    "# Dummy MPO boundary matrices\n",
    "ML = np.array([1,0,0,0]).reshape(4,1,1) #left MPO boundary\n",
    "MR = np.array([0,0,0,1]).reshape(4,1,1) #right MPO boundary\n",
    "\n",
    "# Define the left MPO boundary\n",
    "ML = np.zeros((L_dim, 1, 1))\n",
    "ML[0, 0, 0] = 1\n",
    "\n",
    "MR = np.zeros((R_dim, 1, 1))\n",
    "MR[-1, 0, 0] = 1\n",
    "\n",
    "#### Initialize MPS tensors\n",
    "chid = 2 # local dimension\n",
    "A = [0 for x in range(Nsites)]\n",
    "A[0] = np.random.rand(1,chid,min(chi,chid))\n",
    "for k in range(1,Nsites):\n",
    "    A[k] = np.random.rand(A[k-1].shape[2],chid,min(min(chi,A[k-1].shape[2]*chid),chid**(Nsites-k-1)))"
   ]
  },
  {
   "cell_type": "code",
   "execution_count": 9,
   "metadata": {},
   "outputs": [],
   "source": [
    "import random\n",
    "from collections import defaultdict\n",
    "\n",
    "class SamplingMPS:\n",
    "\n",
    "    def _density_matrix(\n",
    "        self,\n",
    "        mps: np.array,\n",
    "        r_site: int,\n",
    "    ) -> np.array:\n",
    "\n",
    "        tensor_right = self.tensor_right[r_site + 1]\n",
    "\n",
    "        return ncon([mps[0], np.conj(mps[0]), tensor_right], [[1, -1, 2], [1, -2, 3], [2, 3]])\n",
    "\n",
    "    def _obtain_state_i(\n",
    "        self,\n",
    "        mps: np.array,\n",
    "        r_site: int,\n",
    "    ) -> int:\n",
    "\n",
    "        reduce_matrix = self._density_matrix(mps=mps, r_site=r_site)\n",
    "\n",
    "        pb_values = list(np.real(np.diag(reduce_matrix)))\n",
    "\n",
    "        return (0, pb_values[0]) if random.uniform(0, 1) < pb_values[0] else (1, pb_values[1])\n",
    "\n",
    "    def _proyecting_state(self, tensor: np.array, state: int) -> np.array:\n",
    "\n",
    "        state_final = np.array([[1, 0]]) if state == 0 else np.array([[0, 1]])\n",
    "\n",
    "        return ncon([state_final, tensor], [[-1, 1], [1, -2]])\n",
    "\n",
    "    def _proyect_state_i(self, mps: np.array, r_site: int) -> np.array:\n",
    "\n",
    "        if len(mps) > 1:\n",
    "\n",
    "            mps_new = mps.copy()\n",
    "            mps_new = mps_new[1:]\n",
    "\n",
    "        else:\n",
    "            mps_new = mps.copy()\n",
    "\n",
    "        state_qubit, pb_state = self._obtain_state_i(mps=mps, r_site=r_site)\n",
    "\n",
    "        state_to_proyect = mps[0].reshape(2, mps[0].shape[2])\n",
    "\n",
    "        state_proyected = self._proyecting_state(tensor=state_to_proyect, state=state_qubit)\n",
    "\n",
    "        state_proyected = state_proyected.reshape(1, mps[0].shape[2])\n",
    "\n",
    "        mps_new[0] = ncon([state_proyected, mps_new[0]], [[-1, 1], [1, -2, -3]])\n",
    "\n",
    "        mps_new[0] = 1 / np.sqrt(pb_state) * mps_new[0].reshape(1, 2, mps_new[0].shape[2])\n",
    "\n",
    "        return mps_new, state_qubit\n",
    "\n",
    "    def _one_sample(self, mps: np.array) -> np.array:\n",
    "\n",
    "        mps_sample = mps.copy()\n",
    "\n",
    "        sample = []\n",
    "\n",
    "        for i in range(len(mps_sample)):\n",
    "\n",
    "            mps_sample, state_qubit = self._proyect_state_i(mps=mps_sample, r_site=i)\n",
    "\n",
    "            sample.append(state_qubit)\n",
    "\n",
    "        return sample\n",
    "\n",
    "    def _right_envs(self, mps: np.array):\n",
    "\n",
    "        ortho_renv = [None for _ in range(len(mps))]\n",
    "\n",
    "        ortho_renv[-1] = ncon([mps[-1], np.conj(mps[-1])], [[-1, 1, 2], [-2, 1, 2]])\n",
    "\n",
    "        for s in range(len(mps) - 2, -1, -1):\n",
    "\n",
    "            ortho_renv[s] = ncon(\n",
    "                [mps[s], np.conj(mps[s]), ortho_renv[s + 1]],\n",
    "                [[-1, 1, 2], [-2, 1, 3], [2, 3]],\n",
    "            )\n",
    "\n",
    "        ortho_renv.append(np.eye(1))\n",
    "\n",
    "        return ortho_renv\n",
    "\n",
    "    def sampling(self, mps: np.array, n_samples: int):\n",
    "\n",
    "        self.tensor_right = self._right_envs(mps=mps)\n",
    "\n",
    "        list_samples = [self._one_sample(mps=mps) for _ in range(n_samples)]\n",
    "\n",
    "        counting = defaultdict(int)\n",
    "\n",
    "        for sub_list in list_samples:\n",
    "            key = \"\".join(map(str, sub_list))\n",
    "            counting[key] += 1\n",
    "\n",
    "        return {key: count / n_samples for key, count in counting.items()}"
   ]
  },
  {
   "cell_type": "code",
   "execution_count": 10,
   "metadata": {},
   "outputs": [
    {
     "name": "stdout",
     "output_type": "stream",
     "text": [
      "Sweep: 1 of 15, Loc: 1,Energy: -163.043357\n",
      "Sweep: 1 of 15, Loc: 0,Energy: -163.056000\n",
      "Sweep: 1 of 15, Loc: 0,Energy: -163.056000\n",
      "Sweep: 1 of 15, Loc: 1,Energy: -163.056000\n",
      "Sweep: 2 of 15, Loc: 1,Energy: -163.056000\n",
      "Sweep: 2 of 15, Loc: 0,Energy: -163.056000\n",
      "Sweep: 2 of 15, Loc: 0,Energy: -163.056000\n",
      "Sweep: 2 of 15, Loc: 1,Energy: -163.056000\n",
      "Sweep: 3 of 15, Loc: 1,Energy: -163.056000\n",
      "Sweep: 3 of 15, Loc: 0,Energy: -163.056000\n",
      "Sweep: 3 of 15, Loc: 0,Energy: -163.056000\n",
      "Sweep: 3 of 15, Loc: 1,Energy: -163.056000\n",
      "Sweep: 4 of 15, Loc: 1,Energy: -163.056000\n",
      "Sweep: 4 of 15, Loc: 0,Energy: -163.056000\n",
      "Sweep: 4 of 15, Loc: 0,Energy: -163.056000\n",
      "Sweep: 4 of 15, Loc: 1,Energy: -163.056000\n",
      "Sweep: 5 of 15, Loc: 1,Energy: -163.056000\n",
      "Sweep: 5 of 15, Loc: 0,Energy: -163.056000\n",
      "Sweep: 5 of 15, Loc: 0,Energy: -163.056000\n",
      "Sweep: 5 of 15, Loc: 1,Energy: -163.056000\n",
      "Sweep: 6 of 15, Loc: 1,Energy: -163.056000\n",
      "Sweep: 6 of 15, Loc: 0,Energy: -163.056000\n",
      "Sweep: 6 of 15, Loc: 0,Energy: -163.056000\n",
      "Sweep: 6 of 15, Loc: 1,Energy: -163.056000\n",
      "Sweep: 7 of 15, Loc: 1,Energy: -163.056000\n",
      "Sweep: 7 of 15, Loc: 0,Energy: -163.056000\n",
      "Sweep: 7 of 15, Loc: 0,Energy: -163.056000\n",
      "Sweep: 7 of 15, Loc: 1,Energy: -163.056000\n",
      "Sweep: 8 of 15, Loc: 1,Energy: -163.056000\n",
      "Sweep: 8 of 15, Loc: 0,Energy: -163.056000\n",
      "Sweep: 8 of 15, Loc: 0,Energy: -163.056000\n",
      "Sweep: 8 of 15, Loc: 1,Energy: -163.056000\n",
      "Sweep: 9 of 15, Loc: 1,Energy: -163.056000\n",
      "Sweep: 9 of 15, Loc: 0,Energy: -163.056000\n",
      "Sweep: 9 of 15, Loc: 0,Energy: -163.056000\n",
      "Sweep: 9 of 15, Loc: 1,Energy: -163.056000\n",
      "Sweep: 10 of 15, Loc: 1,Energy: -163.056000\n",
      "Sweep: 10 of 15, Loc: 0,Energy: -163.056000\n",
      "Sweep: 10 of 15, Loc: 0,Energy: -163.056000\n",
      "Sweep: 10 of 15, Loc: 1,Energy: -163.056000\n",
      "Sweep: 11 of 15, Loc: 1,Energy: -163.056000\n",
      "Sweep: 11 of 15, Loc: 0,Energy: -163.056000\n",
      "Sweep: 11 of 15, Loc: 0,Energy: -163.056000\n",
      "Sweep: 11 of 15, Loc: 1,Energy: -163.056000\n",
      "Sweep: 12 of 15, Loc: 1,Energy: -163.056000\n",
      "Sweep: 12 of 15, Loc: 0,Energy: -163.056000\n",
      "Sweep: 12 of 15, Loc: 0,Energy: -163.056000\n",
      "Sweep: 12 of 15, Loc: 1,Energy: -163.056000\n",
      "Sweep: 13 of 15, Loc: 1,Energy: -163.056000\n",
      "Sweep: 13 of 15, Loc: 0,Energy: -163.056000\n",
      "Sweep: 13 of 15, Loc: 0,Energy: -163.056000\n",
      "Sweep: 13 of 15, Loc: 1,Energy: -163.056000\n",
      "Sweep: 14 of 15, Loc: 1,Energy: -163.056000\n",
      "Sweep: 14 of 15, Loc: 0,Energy: -163.056000\n",
      "Sweep: 14 of 15, Loc: 0,Energy: -163.056000\n",
      "Sweep: 14 of 15, Loc: 1,Energy: -163.056000\n",
      "Sweep: 15 of 15, Loc: 1,Energy: -163.056000\n",
      "Sweep: 15 of 15, Loc: 0,Energy: -163.056000\n",
      "Sweep: 15 of 15, Loc: 0,Energy: -163.056000\n",
      "Sweep: 15 of 15, Loc: 1,Energy: -163.056000\n"
     ]
    }
   ],
   "source": [
    "from ncon import ncon\n",
    "\n",
    "#### Do DMRG sweeps (2-site approach)\n",
    "En1, left_MPS, sWeight, right_MPS = doDMRG_MPO(A,ML,M,MR,chi,\n",
    "                                               numsweeps = OPTS_numsweeps,\n",
    "                                               dispon = OPTS_dispon,\n",
    "                                               updateon = OPTS_updateon,\n",
    "                                               maxit = OPTS_maxit,\n",
    "                                               krydim = OPTS_krydim)"
   ]
  },
  {
   "cell_type": "code",
   "execution_count": 11,
   "metadata": {},
   "outputs": [
    {
     "name": "stdout",
     "output_type": "stream",
     "text": [
      "[[[ 1.00000000e+00  9.15741030e-11]\n",
      "  [ 8.68596469e-09 -4.37875800e-23]]\n",
      "\n",
      " [[-2.47576140e-14  1.99135961e-24]\n",
      "  [ 9.46137821e-09  1.56124397e-09]]]\n",
      "(2, 2, 2)\n",
      "state 000: 1.0\n",
      "state 001: 9.157410301672123e-11\n",
      "state 010: 8.685964692255931e-09\n",
      "state 011: -4.378757999714145e-23\n",
      "state 100: -2.4757614009587254e-14\n",
      "state 101: 1.9913596133641593e-24\n",
      "state 110: 9.46137820789472e-09\n",
      "state 111: 1.5612439694925021e-09\n"
     ]
    }
   ],
   "source": [
    "# contract the MPS to get the state\n",
    "E = ncon(right_MPS, [[-1,-2,1],[1,-3,2],[2,-4,-5]])\n",
    "bulk_E = E.reshape(2,2,2)\n",
    "print(bulk_E)\n",
    "print(bulk_E.shape)\n",
    "\n",
    "for i in range(2):\n",
    "    for j in range(2):\n",
    "        for k in range(2):\n",
    "            print(f'state {i}{j}{k}: {bulk_E[i,j,k]}')"
   ]
  },
  {
   "cell_type": "code",
   "execution_count": 12,
   "metadata": {},
   "outputs": [
    {
     "name": "stdout",
     "output_type": "stream",
     "text": [
      "MPS[0]:  (1, 2, 2)\n",
      "MPS[1]:  (2, 2, 2)\n",
      "MPS[2]:  (2, 2, 1)\n",
      "MPO[0]:  (4, 2, 2)\n",
      "MPO[1]:  (4, 3, 2, 2)\n",
      "MPO[2]:  (3, 2, 2)\n",
      "(2, 2, 2)\n",
      "(4, 3, 2, 2)\n",
      "-163.05599999999998\n"
     ]
    }
   ],
   "source": [
    "for i in range(len(right_MPS)):\n",
    "    print(f'MPS[{i}]: ', right_MPS[i].shape)\n",
    "\n",
    "M[0] = M[0][0, :]\n",
    "M[-1] = M[-1][:, -1]\n",
    "\n",
    "for i in range(len(M)):\n",
    "    print(f'MPO[{i}]: ', M[i].shape)\n",
    "\n",
    "S_left = ncon(\n",
    "    [right_MPS[0], M[0], right_MPS[0]], [[1, 2, -1], [-2, 2, 3], [1, 3, -3]]\n",
    ")\n",
    "for i in range(1, Nsites - 1):\n",
    "    tensor = right_MPS[i]\n",
    "    print(tensor.shape)\n",
    "    print(M[i].shape)\n",
    "    S_left = ncon([S_left, tensor, M[i], np.conj(tensor)], [[1, 2, 3], [1, 4, -1], [2, -2, 4, 5], [3, 5, -3]])\n",
    "S_left = ncon(\n",
    "    [S_left, right_MPS[-1], M[-1], np.conj(right_MPS[-1])],\n",
    "    [[1, 2, 3], [1, 4, 5], [2, 4, 6], [3, 6, 5]],\n",
    ")\n",
    "print(S_left)"
   ]
  },
  {
   "cell_type": "code",
   "execution_count": 13,
   "metadata": {},
   "outputs": [
    {
     "name": "stdout",
     "output_type": "stream",
     "text": [
      "(1, 2, 1)\n",
      "(4, 3, 2, 2)\n",
      "16.264999999999993\n"
     ]
    }
   ],
   "source": [
    "'''\n",
    "VA PERFECTE AQUESTA FUNCIÓ\n",
    "'''\n",
    "\n",
    "state = '110'\n",
    "\n",
    "custom_MPS = []\n",
    "\n",
    "matrix_0 = np.array([[1, 0]])\n",
    "reshaped_matrix_0 = matrix_0.reshape(1,2,1)\n",
    "\n",
    "matrix_1 = np.array([[0, 1]])\n",
    "reshaped_matrix_1 = matrix_1.reshape(1,2,1)\n",
    "\n",
    "for s in state:\n",
    "    if s=='0':\n",
    "        custom_MPS.append(reshaped_matrix_0)\n",
    "    elif s=='1':\n",
    "        custom_MPS.append(reshaped_matrix_1)\n",
    "\n",
    "S_left = ncon(\n",
    "    [custom_MPS[0], M[0], custom_MPS[0]], [[1, 2, -1], [-2, 2, 3], [1, 3, -3]]\n",
    ")\n",
    "for i in range(1, Nsites - 1):\n",
    "    tensor = custom_MPS[i]\n",
    "    print(tensor.shape)\n",
    "    print(M[i].shape)\n",
    "    S_left = ncon([S_left, tensor, M[i], np.conj(tensor)], [[1, 2, 3], [1, 4, -1], [2, -2, 4, 5], [3, 5, -3]])\n",
    "S_left = ncon(\n",
    "    [S_left, custom_MPS[-1], M[-1], np.conj(custom_MPS[-1])],\n",
    "    [[1, 2, 3], [1, 4, 5], [2, 4, 6], [3, 6, 5]],\n",
    ")\n",
    "print(S_left)"
   ]
  },
  {
   "cell_type": "code",
   "execution_count": 14,
   "metadata": {},
   "outputs": [
    {
     "name": "stdout",
     "output_type": "stream",
     "text": [
      "{'000': 1.0}\n"
     ]
    }
   ],
   "source": [
    "samplingMPS = SamplingMPS()\n",
    "\n",
    "result = samplingMPS.sampling(left_MPS, 1000)\n",
    "print(result)"
   ]
  },
  {
   "cell_type": "code",
   "execution_count": 15,
   "metadata": {},
   "outputs": [
    {
     "ename": "SyntaxError",
     "evalue": "invalid syntax (4186327484.py, line 1)",
     "output_type": "error",
     "traceback": [
      "\u001b[1;36m  Cell \u001b[1;32mIn[15], line 1\u001b[1;36m\u001b[0m\n\u001b[1;33m    Contraer estados que conozca y ver si las energias cuadran\u001b[0m\n\u001b[1;37m             ^\u001b[0m\n\u001b[1;31mSyntaxError\u001b[0m\u001b[1;31m:\u001b[0m invalid syntax\n"
     ]
    }
   ],
   "source": [
    "Contraer estados que conozca y ver si las energias cuadran\n",
    "\n",
    "1 0 - estado 0\n",
    "0 0\n",
    "\n",
    "0 0 - estado 1\n",
    "0 1\n",
    "\n",
    "dev -> modulo de tensor networks"
   ]
  }
 ],
 "metadata": {
  "kernelspec": {
   "display_name": "Python 3",
   "language": "python",
   "name": "python3"
  },
  "language_info": {
   "codemirror_mode": {
    "name": "ipython",
    "version": 3
   },
   "file_extension": ".py",
   "mimetype": "text/x-python",
   "name": "python",
   "nbconvert_exporter": "python",
   "pygments_lexer": "ipython3",
   "version": "3.11.7"
  }
 },
 "nbformat": 4,
 "nbformat_minor": 2
}
