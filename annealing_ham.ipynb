{
 "cells": [
  {
   "cell_type": "code",
   "execution_count": 1,
   "metadata": {},
   "outputs": [],
   "source": [
    "N = 3\n",
    "values = [[0] * (i+1) for i in range(N)]\n",
    "\n",
    "# Assigning profit of each item\n",
    "values[0][0] = 60 \n",
    "values[1][0] = 30\n",
    "values[1][1] = 100   \n",
    "values[2][0] = 2  \n",
    "values[2][1] = 5  \n",
    "values[2][2] = 120  \n",
    "\n",
    "# Assigning weight of each item\n",
    "weights = [10, 20, 30]\n",
    "\n",
    "W_capacity = 50"
   ]
  },
  {
   "cell_type": "code",
   "execution_count": 2,
   "metadata": {},
   "outputs": [],
   "source": [
    "import dimod\n",
    "import dimod.utilities\n",
    "\n",
    "# https://docs.ocean.dwavesys.com/en/latest/docs_dimod/reference/generated/dimod.binary.BinaryQuadraticModel.to_ising.html\n",
    "\n",
    "x = [dimod.Binary(i) for i in range(N)]\n",
    "\n",
    "cost = - dimod.quicksum(values[i][j] * x[i] * x[j] for i in range(N) for j in range (i+1)) # values\n",
    "cost -= 0.9603*(W_capacity - dimod.quicksum(weights[i] * x[i] for i in range(N)))\n",
    "cost += 0.0371*(W_capacity - dimod.quicksum(weights[i] * x[i] for i in range(N)))**2\n",
    "\n",
    "model = dimod.BinaryQuadraticModel(cost.linear, cost.quadratic, cost.offset, vartype='BINARY')\n",
    "H = model.to_ising()"
   ]
  },
  {
   "cell_type": "code",
   "execution_count": 3,
   "metadata": {},
   "outputs": [
    {
     "name": "stdout",
     "output_type": "stream",
     "text": [
      "{0: 1, 1: 1, 2: 1}\n"
     ]
    }
   ],
   "source": [
    "from neal import SimulatedAnnealingSampler\n",
    "\n",
    "\n",
    "sampleset = SimulatedAnnealingSampler().sample(model, num_reads=1000)\n",
    "\n",
    "solution = sampleset.first.sample\n",
    "print(solution)"
   ]
  },
  {
   "cell_type": "code",
   "execution_count": 4,
   "metadata": {},
   "outputs": [
    {
     "name": "stdout",
     "output_type": "stream",
     "text": [
      "3\n"
     ]
    }
   ],
   "source": [
    "import numpy as np\n",
    "from DMRG.annealing_ham_to_MPO import from_ham_coeff\n",
    "\n",
    "h_coeffs = [H[0][site] for site in range (N)] # H[0] contains linear interactions\n",
    "\n",
    "J_coeffs = np.zeros((N,N))\n",
    "for term in H[1]: # quadratic interacions\n",
    "    # TODO in formulation i>j, but in MPO i<j (triangular superior, la meitat buida)\n",
    "    J_coeffs[min(term[0], term[1]), max(term[0], term[1])] = H[1][term]\n",
    "\n",
    "offset = H[2]\n",
    "s = 1\n",
    "\n",
    "M = from_ham_coeff(N, J_coeffs, h_coeffs, s)\n",
    "\n",
    "print(len(M))"
   ]
  },
  {
   "cell_type": "code",
   "execution_count": 5,
   "metadata": {},
   "outputs": [],
   "source": [
    "import numpy as np\n",
    "from numpy import linalg as LA\n",
    "import matplotlib.pyplot as plt\n",
    "\n",
    "from ncon import ncon\n",
    "from DMRG.module import doDMRG_MPO\n",
    "\n",
    "##### Set bond dimensions and simulation options\n",
    "chi = 16\n",
    "Nsites = N\n",
    "\n",
    "OPTS_numsweeps = 4 # number of DMRG sweeps\n",
    "OPTS_dispon = 2 # level of output display\n",
    "OPTS_updateon = True # level of output display\n",
    "OPTS_maxit = 2 # iterations of Lanczos method\n",
    "OPTS_krydim = 4 # dimension of Krylov subspace\n",
    "\n",
    "#####################################\n",
    "\n",
    "L_dim = M[0].shape[0]\n",
    "R_dim = M[-1].shape[2]\n",
    "\n",
    "# Dummy MPO boundary matrices\n",
    "ML = np.array([1,0,0,0]).reshape(4,1,1) #left MPO boundary\n",
    "MR = np.array([0,0,0,1]).reshape(4,1,1) #right MPO boundary\n",
    "\n",
    "# Define the left MPO boundary\n",
    "ML = np.zeros((L_dim, 1, 1))\n",
    "ML[0, 0, 0] = 1\n",
    "\n",
    "MR = np.zeros((R_dim, 1, 1))\n",
    "MR[-1, 0, 0] = 1\n",
    "\n",
    "#### Initialize MPS tensors\n",
    "chid = 2 # local dimension\n",
    "A = [0 for x in range(Nsites)]\n",
    "A[0] = np.random.rand(1,chid,min(chi,chid))\n",
    "for k in range(1,Nsites):\n",
    "    A[k] = np.random.rand(A[k-1].shape[2],chid,min(min(chi,A[k-1].shape[2]*chid),chid**(Nsites-k-1)))"
   ]
  },
  {
   "cell_type": "code",
   "execution_count": 6,
   "metadata": {},
   "outputs": [
    {
     "name": "stdout",
     "output_type": "stream",
     "text": [
      "Sweep: 1 of 4, Loc: 1,Energy: -163.055339\n",
      "Sweep: 1 of 4, Loc: 0,Energy: -163.056000\n",
      "Sweep: 1 of 4, Loc: 0,Energy: -163.056000\n",
      "Sweep: 1 of 4, Loc: 1,Energy: -163.056000\n",
      "Sweep: 2 of 4, Loc: 1,Energy: -163.056000\n",
      "Sweep: 2 of 4, Loc: 0,Energy: -163.056000\n",
      "Sweep: 2 of 4, Loc: 0,Energy: -163.056000\n",
      "Sweep: 2 of 4, Loc: 1,Energy: -163.056000\n",
      "Sweep: 3 of 4, Loc: 1,Energy: -163.056000\n",
      "Sweep: 3 of 4, Loc: 0,Energy: -163.056000\n",
      "Sweep: 3 of 4, Loc: 0,Energy: -163.056000\n",
      "Sweep: 3 of 4, Loc: 1,Energy: -163.056000\n",
      "Sweep: 4 of 4, Loc: 1,Energy: -163.056000\n",
      "Sweep: 4 of 4, Loc: 0,Energy: -163.056000\n",
      "Sweep: 4 of 4, Loc: 0,Energy: -163.056000\n",
      "Sweep: 4 of 4, Loc: 1,Energy: -163.056000\n"
     ]
    }
   ],
   "source": [
    "#### Do DMRG sweeps (2-site approach)\n",
    "En1, left_MPS, sWeight, right_MPS = doDMRG_MPO(A,ML,M,MR,chi,\n",
    "                                               numsweeps = OPTS_numsweeps,\n",
    "                                               dispon = OPTS_dispon,\n",
    "                                               updateon = OPTS_updateon,\n",
    "                                               maxit = OPTS_maxit,\n",
    "                                               krydim = OPTS_krydim)\n"
   ]
  }
 ],
 "metadata": {
  "kernelspec": {
   "display_name": "Python 3",
   "language": "python",
   "name": "python3"
  },
  "language_info": {
   "codemirror_mode": {
    "name": "ipython",
    "version": 3
   },
   "file_extension": ".py",
   "mimetype": "text/x-python",
   "name": "python",
   "nbconvert_exporter": "python",
   "pygments_lexer": "ipython3",
   "version": "3.11.7"
  }
 },
 "nbformat": 4,
 "nbformat_minor": 2
}
