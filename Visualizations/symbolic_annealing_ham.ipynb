{
 "cells": [
  {
   "cell_type": "code",
   "execution_count": 2,
   "metadata": {},
   "outputs": [],
   "source": [
    "import sympy as sp\n",
    "import numpy as np\n",
    "\n",
    "def from_ham_symb(N):\n",
    "    \"\"\"Construct an MPO for the Annealing Hamiltonian.\n",
    "    \n",
    "    This is an implementation using symbols to check correctness.\n",
    "\n",
    "    Returns:\n",
    "        MPO (List[array]): List of tensors representing the MPO (1 tensor for each qubit)\n",
    "    \"\"\"\n",
    "    N_by_2 = int(N / 2)\n",
    "\n",
    "    a_list = [np.zeros((k + 2, k + 3), dtype=object) for k in range(1, N_by_2)]\n",
    "\n",
    "    aux = 2 if N % 2 == 0 else 3\n",
    "    a_list += [np.zeros((N_by_2 + 2, N_by_2 + aux), dtype=object)]\n",
    "\n",
    "    a_list += [np.zeros((N - k + 3, N - k + 2), dtype=object) for k in range(N_by_2 + 1, N + 1)]\n",
    "\n",
    "    for k in range(1, N+1):\n",
    "        a_list[k-1][0,0] = 1\n",
    "        a_list[k-1][-1,-1] = 1\n",
    "        a_list[k-1][-2,-1] = sp.Symbol(f'Z_{k}')\n",
    "        a_list[k-1][0,-1] = sp.Symbol(f'(1-s)*X_{k}')*sp.Symbol(f'+s*h_{k}')*sp.Symbol(f'Z_{k}')\n",
    "        \n",
    "        if k < N_by_2:\n",
    "            a_list[k-1][0,1] = sp.Symbol(f'Z_{k}')\n",
    "            a_list[k-1][0,k+1] = sp.Symbol(f'Z_{k}')*sp.Symbol(f's*c_{k},{k+1}')\n",
    "\n",
    "            for m in range(2, k+1):\n",
    "                a_list[k-1][m-1, m] = 1\n",
    "                a_list[k-1][m-1, k+1] = sp.Symbol(f's*c_{k-m+1},{k+1}')\n",
    "\n",
    "        elif k == N_by_2:\n",
    "            for n in range(2, N_by_2 + aux):\n",
    "                a_list[k-1][0, n-1] = sp.Symbol(f'Z_{k}')*sp.Symbol(f's*c_{N_by_2},{N-n+2}')\n",
    "                for m in range(2, k+1):\n",
    "                    a_list[k-1][m-1, n-1] = sp.Symbol(f's*c_{N_by_2-m+1},{N-n+2}')\n",
    "\n",
    "        else: # k+1 > N_by_2:\n",
    "            for m in range(2, N-k+2):\n",
    "                a_list[k-1][0, m-1] = sp.Symbol(f'Z_{k}')*sp.Symbol(f's*c_{k},{N-m+2}')\n",
    "                a_list[k-1][m-1, m-1] = 1\n",
    "\n",
    "    a_list[0] = a_list[0][0, :] # other rows are used to propagate information of previous tensors, does not make sense to keep them\n",
    "    a_list[-1] = a_list[-1][:, -1] # other columns are used to propagate information to the next tensors, does not make sense to keep them\n",
    "\n",
    "    tn = a_list[0]\n",
    "    \n",
    "    for i in range(N - 1):\n",
    "        tn = np.matmul(tn, a_list[i+1])\n",
    "\n",
    "    return tn, a_list"
   ]
  },
  {
   "cell_type": "code",
   "execution_count": 4,
   "metadata": {},
   "outputs": [
    {
     "data": {
      "text/latex": [
       "$\\displaystyle (1-s)*X_{1} +s*h_{1} Z_{1} + (1-s)*X_{2} +s*h_{2} Z_{2} + (1-s)*X_{3} +s*h_{3} Z_{3} + Z_{1} Z_{2} s*c_{1,2} + Z_{3} \\left(Z_{1} s*c_{1,3} + Z_{2} s*c_{2,3}\\right)$"
      ],
      "text/plain": [
       "(1-s)*X_1*+s*h_1*Z_1 + (1-s)*X_2*+s*h_2*Z_2 + (1-s)*X_3*+s*h_3*Z_3 + Z_1*Z_2*s*c_1,2 + Z_3*(Z_1*s*c_1,3 + Z_2*s*c_2,3)"
      ]
     },
     "execution_count": 4,
     "metadata": {},
     "output_type": "execute_result"
    }
   ],
   "source": [
    "N = 3\n",
    "\n",
    "symb_ham, a_list = from_ham_symb(N)\n",
    "\n",
    "symb_ham"
   ]
  }
 ],
 "metadata": {
  "kernelspec": {
   "display_name": "Python 3",
   "language": "python",
   "name": "python3"
  },
  "language_info": {
   "codemirror_mode": {
    "name": "ipython",
    "version": 3
   },
   "file_extension": ".py",
   "mimetype": "text/x-python",
   "name": "python",
   "nbconvert_exporter": "python",
   "pygments_lexer": "ipython3",
   "version": "3.11.7"
  }
 },
 "nbformat": 4,
 "nbformat_minor": 2
}
