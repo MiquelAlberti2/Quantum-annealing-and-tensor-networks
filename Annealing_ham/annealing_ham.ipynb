{
 "cells": [
  {
   "cell_type": "code",
   "execution_count": 11,
   "metadata": {},
   "outputs": [],
   "source": [
    "N = 3\n",
    "values = [[0] * (i+1) for i in range(N)]\n",
    "\n",
    "# Assigning profit of each item\n",
    "values[0][0] = 60 \n",
    "values[1][0] = 30\n",
    "values[1][1] = 100   \n",
    "values[2][0] = 2  \n",
    "values[2][1] = 5  \n",
    "values[2][2] = 120  \n",
    "\n",
    "# Assigning weight of each item\n",
    "weights = [10, 20, 30]\n",
    "\n",
    "W_capacity = 50"
   ]
  },
  {
   "cell_type": "code",
   "execution_count": 12,
   "metadata": {},
   "outputs": [
    {
     "name": "stdout",
     "output_type": "stream",
     "text": [
      "BinaryQuadraticModel({'x_0': 7840.15, 'x_1': -140.154, 'x_2': -169.101}, {('x_1', 'x_0'): 712.0, ('x_2', 'x_0'): 1111.0, ('x_2', 'x_1'): 39.52}, 44.735, 'BINARY')\n",
      "({'x_1': 117.803, 'x_0': 4375.825, 'x_2': 203.0795}, {('x_0', 'x_1'): 178.0, ('x_2', 'x_1'): 9.88, ('x_2', 'x_0'): 277.75}, 4275.8125)\n"
     ]
    }
   ],
   "source": [
    "import dimod\n",
    "import dimod.utilities\n",
    "\n",
    "# https://docs.ocean.dwavesys.com/en/latest/docs_dimod/reference/generated/dimod.binary.BinaryQuadraticModel.to_ising.html\n",
    "\n",
    "x = [dimod.Binary(f'x_{i}') for i in range(N)]\n",
    "\n",
    "cost = - dimod.quicksum(values[i][j] * x[i] * x[j] for i in range(N) for j in range (i+1)) # values\n",
    "cost -= 0.9603*(W_capacity - dimod.quicksum(weights[i] * x[i] for i in range(N)))\n",
    "cost += 0.0371*(W_capacity - dimod.quicksum(weights[i] * x[i] for i in range(N)))**2\n",
    "\n",
    "print(cost)\n",
    "\n",
    "model = dimod.BinaryQuadraticModel(cost.linear, cost.quadratic, cost.offset, vartype='BINARY')\n",
    "H = model.to_ising()\n",
    "\n",
    "print(H)"
   ]
  },
  {
   "cell_type": "code",
   "execution_count": 13,
   "metadata": {},
   "outputs": [
    {
     "name": "stdout",
     "output_type": "stream",
     "text": [
      "{'x_0': 0, 'x_1': 1, 'x_2': 1}\n"
     ]
    }
   ],
   "source": [
    "from neal import SimulatedAnnealingSampler\n",
    "\n",
    "\n",
    "sampleset = SimulatedAnnealingSampler().sample(model, num_reads=1000)\n",
    "\n",
    "solution = sampleset.first.sample\n",
    "print(solution)"
   ]
  },
  {
   "cell_type": "code",
   "execution_count": 5,
   "metadata": {},
   "outputs": [
    {
     "name": "stderr",
     "output_type": "stream",
     "text": [
      "usage: ipykernel_launcher.py [-h] [--nqubits NQUBITS] [--hfield HFIELD]\n",
      "                             [--T T] [--dt DT] [--solver SOLVER] [--save]\n",
      "ipykernel_launcher.py: error: unrecognized arguments: --f=c:\\Users\\mique\\AppData\\Roaming\\jupyter\\runtime\\kernel-v2-24072djB3llYh0KqZ.json\n"
     ]
    },
    {
     "ename": "SystemExit",
     "evalue": "2",
     "output_type": "error",
     "traceback": [
      "An exception has occurred, use %tb to see the full traceback.\n",
      "\u001b[1;31mSystemExit\u001b[0m\u001b[1;31m:\u001b[0m 2\n"
     ]
    },
    {
     "name": "stderr",
     "output_type": "stream",
     "text": [
      "C:\\Users\\mique\\AppData\\Roaming\\Python\\Python311\\site-packages\\IPython\\core\\interactiveshell.py:3561: UserWarning: To exit: use 'exit', 'quit', or Ctrl-D.\n",
      "  warn(\"To exit: use 'exit', 'quit', or Ctrl-D.\", stacklevel=1)\n"
     ]
    }
   ],
   "source": [
    "\"\"\"Adiabatic evolution for the Ising Hamiltonian using linear scaling.\"\"\"\n",
    "\n",
    "import argparse\n",
    "from pathlib import Path\n",
    "\n",
    "import matplotlib\n",
    "import matplotlib.pyplot as plt\n",
    "import numpy as np\n",
    "\n",
    "from qibo import callbacks, hamiltonians, models\n",
    "\n",
    "matplotlib.rcParams[\"mathtext.fontset\"] = \"cm\"\n",
    "matplotlib.rcParams[\"font.family\"] = \"STIXGeneral\"\n",
    "matplotlib.rcParams[\"font.size\"] = 14\n",
    "\n",
    "\n",
    "parser = argparse.ArgumentParser()\n",
    "parser.add_argument(\"--nqubits\", default=4, type=int)\n",
    "parser.add_argument(\"--hfield\", default=1, type=float)\n",
    "parser.add_argument(\"--T\", default=1, type=float)\n",
    "parser.add_argument(\"--dt\", default=1e-2, type=float)\n",
    "parser.add_argument(\"--solver\", default=\"exp\", type=str)\n",
    "parser.add_argument(\"--save\", action=\"store_true\")\n",
    "\n",
    "\n",
    "def main(nqubits, hfield, T, dt, solver, save):\n",
    "    \"\"\"Performs adiabatic evolution with critical TFIM as the \"hard\" Hamiltonian.\n",
    "\n",
    "    Plots how the <H1> energy and the overlap with the actual ground state\n",
    "    changes during the evolution.\n",
    "    Linear scheduling is used.\n",
    "\n",
    "    Args:\n",
    "        nqubits (int): Number of qubits in the system.\n",
    "        hfield (float): Transverse field Ising model h-field h value.\n",
    "        T (float): Total time of the adiabatic evolution.\n",
    "        dt (float): Time step used for integration.\n",
    "        solver (str): Solver used for integration.\n",
    "        save (bool): Whether to save the plots.\n",
    "    \"\"\"\n",
    "    h0 = hamiltonians.X(nqubits)\n",
    "    h1 = hamiltonians.TFIM(nqubits, h=hfield)\n",
    "    bac = h1.backend\n",
    "\n",
    "    # Calculate target values (H1 ground state)\n",
    "    target_state = h1.ground_state()\n",
    "    target_energy = bac.to_numpy(h1.eigenvalues()[0]).real\n",
    "\n",
    "    # Check ground state\n",
    "    state_energy = bac.to_numpy(h1.expectation(target_state)).real\n",
    "    np.testing.assert_allclose(state_energy.real, target_energy)\n",
    "\n",
    "    energy = callbacks.Energy(h1)\n",
    "    overlap = callbacks.Overlap(target_state)\n",
    "\n",
    "    # SIMULATED ANNEALING\n",
    "    evolution = models.AdiabaticEvolution(\n",
    "        h0, h1, lambda t: t, dt=dt, solver=solver, callbacks=[energy, overlap]\n",
    "    )\n",
    "    final_psi = evolution(final_time=T)\n",
    "\n",
    "    # Plots\n",
    "    tt = np.linspace(0, T, int(T / dt) + 1)\n",
    "    plt.figure(figsize=(12, 4))\n",
    "    plt.subplot(121)\n",
    "    plt.plot(tt, energy[:], linewidth=2.0, label=\"Evolved state\")\n",
    "    plt.axhline(y=target_energy, color=\"red\", linewidth=2.0, label=\"Ground state\")\n",
    "    plt.xlabel(\"$t$\")\n",
    "    plt.ylabel(\"$H_1$\")\n",
    "    plt.legend()\n",
    "\n",
    "    plt.subplot(122)\n",
    "    plt.plot(tt, overlap[:], linewidth=2.0)\n",
    "    plt.xlabel(\"$t$\")\n",
    "    plt.ylabel(\"Overlap\")\n",
    "\n",
    "    if save:\n",
    "        out_fol = Path(\"images\")\n",
    "        out_fol.mkdir(exist_ok=True)\n",
    "        plt.savefig(out_fol / f\"dynamics_n{nqubits}T{T}.png\", bbox_inches=\"tight\")\n",
    "    else:\n",
    "        plt.show()\n",
    "\n",
    "\n",
    "if __name__ == \"__main__\":\n",
    "    args = vars(parser.parse_args())\n",
    "    main(**args)"
   ]
  }
 ],
 "metadata": {
  "kernelspec": {
   "display_name": "Python 3",
   "language": "python",
   "name": "python3"
  },
  "language_info": {
   "codemirror_mode": {
    "name": "ipython",
    "version": 3
   },
   "file_extension": ".py",
   "mimetype": "text/x-python",
   "name": "python",
   "nbconvert_exporter": "python",
   "pygments_lexer": "ipython3",
   "version": "3.11.7"
  }
 },
 "nbformat": 4,
 "nbformat_minor": 2
}
