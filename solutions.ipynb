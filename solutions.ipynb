{
 "cells": [
  {
   "cell_type": "markdown",
   "metadata": {},
   "source": [
    "### Problem Statement"
   ]
  },
  {
   "cell_type": "code",
   "execution_count": 1,
   "metadata": {},
   "outputs": [],
   "source": [
    "N = 3\n",
    "values = [[0] * (i+1) for i in range(N)]\n",
    "\n",
    "# Assigning profit of each item\n",
    "values[0][0] = 60 \n",
    "values[1][0] = 30\n",
    "values[1][1] = 100   \n",
    "values[2][0] = 2  \n",
    "values[2][1] = 5  \n",
    "values[2][2] = 120  \n",
    "\n",
    "# Assigning weight of each item\n",
    "weights = [10, 20, 30]\n",
    "\n",
    "W_capacity = 50"
   ]
  },
  {
   "cell_type": "markdown",
   "metadata": {},
   "source": [
    "### Exact solution"
   ]
  },
  {
   "cell_type": "code",
   "execution_count": 2,
   "metadata": {},
   "outputs": [
    {
     "name": "stdout",
     "output_type": "stream",
     "text": [
      "(225, [1, 2])\n"
     ]
    }
   ],
   "source": [
    "from Dynamic_programming.classic_knapsack import QKP\n",
    "\n",
    "print(QKP(W_capacity, weights, values, N)) "
   ]
  },
  {
   "cell_type": "markdown",
   "metadata": {},
   "source": [
    "### Simulated annealing"
   ]
  },
  {
   "cell_type": "code",
   "execution_count": null,
   "metadata": {},
   "outputs": [],
   "source": []
  },
  {
   "cell_type": "markdown",
   "metadata": {},
   "source": [
    "### DMRG"
   ]
  }
 ],
 "metadata": {
  "kernelspec": {
   "display_name": "Python 3",
   "language": "python",
   "name": "python3"
  },
  "language_info": {
   "codemirror_mode": {
    "name": "ipython",
    "version": 3
   },
   "file_extension": ".py",
   "mimetype": "text/x-python",
   "name": "python",
   "nbconvert_exporter": "python",
   "pygments_lexer": "ipython3",
   "version": "3.11.7"
  }
 },
 "nbformat": 4,
 "nbformat_minor": 2
}
