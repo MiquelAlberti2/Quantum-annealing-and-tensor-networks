{
 "cells": [
  {
   "cell_type": "markdown",
   "metadata": {},
   "source": [
    "### Problem Statement"
   ]
  },
  {
   "cell_type": "code",
   "execution_count": 5,
   "metadata": {},
   "outputs": [],
   "source": [
    "import tests.custom_tests as tests\n",
    "\n",
    "N, values, weights, W_capacity = tests.easy_test()"
   ]
  },
  {
   "cell_type": "markdown",
   "metadata": {},
   "source": [
    "### Exact solution"
   ]
  },
  {
   "cell_type": "code",
   "execution_count": 6,
   "metadata": {},
   "outputs": [
    {
     "name": "stdout",
     "output_type": "stream",
     "text": [
      " - Solution has items:  [1, 2]\n",
      "Profit: 225\n",
      "Weight: 50 (satisfies constraint W=50)\n",
      "Energy: -225.0\n"
     ]
    }
   ],
   "source": [
    "from Dynamic_programming.classic_knapsack import Dynamic_Programming_QKP_solver\n",
    "\n",
    "dp_solver = Dynamic_Programming_QKP_solver(W_capacity, weights, values)\n",
    "dp_solver.run()\n",
    "dp_solver.show_results()"
   ]
  },
  {
   "cell_type": "markdown",
   "metadata": {},
   "source": [
    "### Simulated annealing"
   ]
  },
  {
   "cell_type": "code",
   "execution_count": 7,
   "metadata": {},
   "outputs": [
    {
     "name": "stdout",
     "output_type": "stream",
     "text": [
      " - Solution has items:  [0, 1, 2]\n",
      "Profit: 317\n",
      "Weight: 60 (does NOT satisfy constraint W=50)\n",
      "Energy: -303.687\n",
      " - Evaluating candidate  [1, 2]\n",
      "Profit: 225\n",
      "Weight: 50 (satisfies constraint W=50)\n",
      "Energy: -225.0\n"
     ]
    }
   ],
   "source": [
    "from Annealing_ham.QKP_ham import QKP_Hamiltonian\n",
    "\n",
    "H_solver = QKP_Hamiltonian(W_capacity, weights, values)\n",
    "H_solver.run_simulated_annealing()\n",
    "H_solver.show_results()\n",
    "\n",
    "H_solver.energy_of_items([1,2])\n"
   ]
  },
  {
   "cell_type": "markdown",
   "metadata": {},
   "source": [
    "### DMRG"
   ]
  }
 ],
 "metadata": {
  "kernelspec": {
   "display_name": "Python 3",
   "language": "python",
   "name": "python3"
  },
  "language_info": {
   "codemirror_mode": {
    "name": "ipython",
    "version": 3
   },
   "file_extension": ".py",
   "mimetype": "text/x-python",
   "name": "python",
   "nbconvert_exporter": "python",
   "pygments_lexer": "ipython3",
   "version": "3.11.7"
  }
 },
 "nbformat": 4,
 "nbformat_minor": 2
}
