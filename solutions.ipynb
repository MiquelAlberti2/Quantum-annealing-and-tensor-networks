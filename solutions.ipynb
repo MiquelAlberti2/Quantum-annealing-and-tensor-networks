{
 "cells": [
  {
   "cell_type": "markdown",
   "metadata": {},
   "source": [
    "### Problem Statement"
   ]
  },
  {
   "cell_type": "code",
   "execution_count": 1,
   "metadata": {},
   "outputs": [],
   "source": [
    "from itertools import combinations\n",
    "\n",
    "N = 3\n",
    "values = [[0] * (i+1) for i in range(N)]\n",
    "\n",
    "# Assigning profit of each item\n",
    "values[0][0] = 60 \n",
    "values[1][0] = 30\n",
    "values[1][1] = 100   \n",
    "values[2][0] = 2  \n",
    "values[2][1] = 5  \n",
    "values[2][2] = 120  \n",
    "\n",
    "# Assigning weight of each item\n",
    "weights = [10, 20, 30]\n",
    "\n",
    "W_capacity = 55\n"
   ]
  },
  {
   "cell_type": "markdown",
   "metadata": {},
   "source": [
    "### Exact solution"
   ]
  },
  {
   "cell_type": "code",
   "execution_count": 2,
   "metadata": {},
   "outputs": [
    {
     "name": "stdout",
     "output_type": "stream",
     "text": [
      "Solution has items:  [1, 2]\n",
      "Profit: 225\n",
      "Weight: 50 (satisfies constraint W=55)\n",
      "Energy: -228.874\n"
     ]
    }
   ],
   "source": [
    "from Dynamic_programming.classic_knapsack import Dynamic_Programming_QKP_solver\n",
    "\n",
    "dp_solver = Dynamic_Programming_QKP_solver(W_capacity, weights, values)\n",
    "dp_solver.run()\n",
    "dp_solver.show_results()"
   ]
  },
  {
   "cell_type": "markdown",
   "metadata": {},
   "source": [
    "### Simulated annealing"
   ]
  },
  {
   "cell_type": "code",
   "execution_count": 3,
   "metadata": {},
   "outputs": [
    {
     "name": "stdout",
     "output_type": "stream",
     "text": [
      "Solution has items:  [0, 1, 2]\n",
      "Profit: 317\n",
      "Weight: 60 (does NOT satisfy constraint W=55)\n",
      "Energy: -311.271\n"
     ]
    }
   ],
   "source": [
    "from Annealing_ham.QKP_ham import QKP_Hamiltonian\n",
    "\n",
    "H_solver = QKP_Hamiltonian(W_capacity, weights, values)\n",
    "H_solver.run_simulated_annealing()\n",
    "H_solver.show_results()\n"
   ]
  },
  {
   "cell_type": "markdown",
   "metadata": {},
   "source": [
    "### DMRG"
   ]
  }
 ],
 "metadata": {
  "kernelspec": {
   "display_name": "Python 3",
   "language": "python",
   "name": "python3"
  },
  "language_info": {
   "codemirror_mode": {
    "name": "ipython",
    "version": 3
   },
   "file_extension": ".py",
   "mimetype": "text/x-python",
   "name": "python",
   "nbconvert_exporter": "python",
   "pygments_lexer": "ipython3",
   "version": "3.11.7"
  }
 },
 "nbformat": 4,
 "nbformat_minor": 2
}
