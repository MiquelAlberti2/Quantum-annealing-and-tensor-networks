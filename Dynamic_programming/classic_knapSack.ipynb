{
 "cells": [
  {
   "cell_type": "code",
   "execution_count": 12,
   "metadata": {},
   "outputs": [],
   "source": [
    "# This code is contributed by Suyash Saxena\n",
    "# https://www.geeksforgeeks.org/python-program-for-dynamic-programming-set-10-0-1-knapsack-problem/\n",
    "# Modificiation 1: keep track of the items in the final solution\n",
    "# Modification 2: the value matrix is a triangular matrix, to solve QKP\n",
    "\n",
    "\n",
    "def QKP(W, wt, val, n): \n",
    "\n",
    "\titems_in_sol = {} # to keep track of items in the solution for each weight\n",
    "\tfor w in range(W+1):\n",
    "\t\titems_in_sol[w] = []\n",
    "\t\n",
    "\t# Making the dp array \n",
    "\tdp = [0 for i in range(W+1)] \n",
    "\n",
    "\t# Taking first i elements \n",
    "\tfor i in range(n): \n",
    "\t\t\n",
    "\t\t# Starting from back, so that we also have data of \n",
    "\t\t# previous computation when taking i-1 items \n",
    "\t\tfor w in range(W, 0, -1): \n",
    "\n",
    "\t\t\tif wt[i] <= w: # if the item fits...\n",
    "\t\t\t\t# compute the value of the solution if we take the item\n",
    "\t\t\t\tnew_value = dp[w-wt[i]] + val[i][i]\n",
    "\n",
    "\t\t\t\tfor j in items_in_sol[w-wt[i]]:\n",
    "\t\t\t\t\tnew_value += val[max(i,j)][min(i,j)] # val is a triangular matrix\n",
    "\n",
    "\t\t\t\t# check if the item improves the solution\n",
    "\t\t\t\tif dp[w] < new_value:\n",
    "\t\t\t\t\t# update the value\n",
    "\t\t\t\t\tdp[w] = new_value\n",
    "\t\t\t\t\t# update the items in the solution\n",
    "\t\t\t\t\titems_in_sol[w] = items_in_sol[w-wt[i]].copy()\n",
    "\t\t\t\t\titems_in_sol[w].append(i)\n",
    "\t\n",
    "\tprint(items_in_sol)\n",
    "\t# Returning the maximum value of knapsack \n",
    "\treturn dp[W] "
   ]
  },
  {
   "cell_type": "code",
   "execution_count": 16,
   "metadata": {},
   "outputs": [
    {
     "name": "stdout",
     "output_type": "stream",
     "text": [
      "{0: [], 1: [], 2: [], 3: [], 4: [], 5: [], 6: [], 7: [], 8: [], 9: [], 10: [0], 11: [0], 12: [0], 13: [0], 14: [0], 15: [0], 16: [0], 17: [0], 18: [0], 19: [0], 20: [1], 21: [1], 22: [1], 23: [1], 24: [1], 25: [1], 26: [1], 27: [1], 28: [1], 29: [1], 30: [0, 1], 31: [0, 1], 32: [0, 1], 33: [0, 1], 34: [0, 1], 35: [0, 1], 36: [0, 1], 37: [0, 1], 38: [0, 1], 39: [0, 1], 40: [0, 1], 41: [0, 1], 42: [0, 1], 43: [0, 1], 44: [0, 1], 45: [0, 1], 46: [0, 1], 47: [0, 1], 48: [0, 1], 49: [0, 1], 50: [1, 2]}\n",
      "225\n"
     ]
    }
   ],
   "source": [
    "N = 3\n",
    "values = [[0] * (i+1) for i in range(N)]\n",
    "\n",
    "# Assigning profit of each item\n",
    "values[0][0] = 60 \n",
    "values[1][0] = 30\n",
    "values[1][1] = 100   \n",
    "values[2][0] = 2  \n",
    "values[2][1] = 5  \n",
    "values[2][2] = 120  \n",
    "\n",
    "# Assigning weight of each item\n",
    "weights = [10, 20, 30]\n",
    "\n",
    "W_capacity = 50\n",
    "\n",
    "print(QKP(W_capacity, weights, values, N)) "
   ]
  }
 ],
 "metadata": {
  "kernelspec": {
   "display_name": "Python 3",
   "language": "python",
   "name": "python3"
  },
  "language_info": {
   "codemirror_mode": {
    "name": "ipython",
    "version": 3
   },
   "file_extension": ".py",
   "mimetype": "text/x-python",
   "name": "python",
   "nbconvert_exporter": "python",
   "pygments_lexer": "ipython3",
   "version": "3.11.7"
  }
 },
 "nbformat": 4,
 "nbformat_minor": 2
}
